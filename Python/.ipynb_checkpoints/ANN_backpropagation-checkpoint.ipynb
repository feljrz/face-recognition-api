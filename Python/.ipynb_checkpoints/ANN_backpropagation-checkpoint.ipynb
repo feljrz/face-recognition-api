{
 "cells": [
  {
   "cell_type": "code",
   "execution_count": 3,
   "metadata": {},
   "outputs": [],
   "source": [
    "import numpy as np\n",
    "import matplotlib.pyplot as plt"
   ]
  },
  {
   "cell_type": "code",
   "execution_count": 105,
   "metadata": {},
   "outputs": [],
   "source": [
    "class NeuralNetwork:\n",
    "    def __init__(self, input_values, output, hidden_size, alfa, epochs = 300):\n",
    "        self.input = input_values\n",
    "        self.output = output\n",
    "        self.hidden = hidden_size\n",
    "        self.alfa = alfa\n",
    "        self.erro = 0.001\n",
    "        self.epochs = epochs\n",
    "        \n",
    "        #Pesos hidden layer\n",
    "        self.v = np.random.rand(self.input.shape[1], self.hidden) - 0.5\n",
    "        self.bv = np.random.rand(1, self.hidden) - 0.5\n",
    "\n",
    "        self.delta_inv = np.zeros((self.hidden, 1))\n",
    "        self.delta_v = np.zeros((self.hidden, 1))\n",
    "\n",
    "        #Pesos camada de saída\n",
    "        self.w = np.random.rand(self.hidden, self.output.shape[1]) - 0.5\n",
    "        self.bw = np.random.rand(self.hidden, self.output.shape[1]) - 0.5\n",
    "    \n",
    "        self.delta_w = np.zeros((self.hidden, 1))\n",
    "\n",
    "    def sigmoid(self, z):\n",
    "        return 1/(1+np.exp(-z))\n",
    "    \n",
    "    def feedfoward(self, X):\n",
    "        #self.z_in = np.zeros((1,self.hidden)) #Soma das entradas dos neurônios escondidos\n",
    "        #self.z = np.zeros((1, self.hidden)) #Saída dos neurônios escondidos \n",
    "        epoch = 0\n",
    "        #while(epoch < self.epochs) and (self.erro > erro_total):\n",
    "        epoch = 0\n",
    "        erro_total = 0\n",
    "        self.z_in =  np.dot(X, self.v) + self.bv\n",
    "        \n",
    "        teste = np.zeros((1,self.hidden))\n",
    "        \n",
    "        for i in range(X.shape[0]):\n",
    "            for j in range(self.hidden):\n",
    "                teste[i, j] = X[i,:] * self.v[:, j] + self.bv[j,0]\n",
    "        \n",
    "        return teste\n",
    "        "
   ]
  },
  {
   "cell_type": "code",
   "execution_count": 106,
   "metadata": {},
   "outputs": [],
   "source": [
    "x = np.array([[1, 1, 1, 0, 0, 1, 0, 0]]).reshape(4,2)\n",
    "y = np.array([[1, 0, 1 ,0]]).reshape(4,1)"
   ]
  },
  {
   "cell_type": "code",
   "execution_count": 107,
   "metadata": {},
   "outputs": [],
   "source": [
    "nn = NeuralNetwork(x, y, 3, 0.01)"
   ]
  },
  {
   "cell_type": "code",
   "execution_count": 108,
   "metadata": {},
   "outputs": [
    {
     "data": {
      "text/plain": [
       "{'input': array([[1, 1],\n",
       "        [1, 0],\n",
       "        [0, 1],\n",
       "        [0, 0]]),\n",
       " 'output': array([[1],\n",
       "        [0],\n",
       "        [1],\n",
       "        [0]]),\n",
       " 'hidden': 3,\n",
       " 'alfa': 0.01,\n",
       " 'erro': 0.001,\n",
       " 'epochs': 300,\n",
       " 'v': array([[ 0.06010281, -0.11158609, -0.12116779],\n",
       "        [-0.0252375 ,  0.0746009 , -0.26495636]]),\n",
       " 'bv': array([[ 0.0149833 ],\n",
       "        [ 0.12714604],\n",
       "        [-0.27736362]]),\n",
       " 'delta_inv': array([[0.],\n",
       "        [0.],\n",
       "        [0.]]),\n",
       " 'delta_v': array([[0.],\n",
       "        [0.],\n",
       "        [0.]]),\n",
       " 'w': array([[-0.18571586],\n",
       "        [-0.45083204],\n",
       "        [ 0.00589553]]),\n",
       " 'bw': array([[ 0.44966259],\n",
       "        [-0.02554078],\n",
       "        [ 0.04690516]]),\n",
       " 'delta_w': array([[0.],\n",
       "        [0.],\n",
       "        [0.]])}"
      ]
     },
     "execution_count": 108,
     "metadata": {},
     "output_type": "execute_result"
    }
   ],
   "source": [
    "nn.__dict__"
   ]
  },
  {
   "cell_type": "code",
   "execution_count": 109,
   "metadata": {},
   "outputs": [
    {
     "ename": "ValueError",
     "evalue": "operands could not be broadcast together with shapes (4,3) (3,1) ",
     "output_type": "error",
     "traceback": [
      "\u001b[0;31m---------------------------------------------------------------------------\u001b[0m",
      "\u001b[0;31mValueError\u001b[0m                                Traceback (most recent call last)",
      "\u001b[0;32m<ipython-input-109-8db06c1326a0>\u001b[0m in \u001b[0;36m<module>\u001b[0;34m\u001b[0m\n\u001b[0;32m----> 1\u001b[0;31m \u001b[0maa\u001b[0m \u001b[0;34m=\u001b[0m \u001b[0mnn\u001b[0m\u001b[0;34m.\u001b[0m\u001b[0mfeedfoward\u001b[0m\u001b[0;34m(\u001b[0m\u001b[0mx\u001b[0m\u001b[0;34m)\u001b[0m\u001b[0;34m\u001b[0m\u001b[0;34m\u001b[0m\u001b[0m\n\u001b[0m",
      "\u001b[0;32m<ipython-input-105-8ff30f7893b3>\u001b[0m in \u001b[0;36mfeedfoward\u001b[0;34m(self, X)\u001b[0m\n\u001b[1;32m     31\u001b[0m         \u001b[0mepoch\u001b[0m \u001b[0;34m=\u001b[0m \u001b[0;36m0\u001b[0m\u001b[0;34m\u001b[0m\u001b[0;34m\u001b[0m\u001b[0m\n\u001b[1;32m     32\u001b[0m         \u001b[0merro_total\u001b[0m \u001b[0;34m=\u001b[0m \u001b[0;36m0\u001b[0m\u001b[0;34m\u001b[0m\u001b[0;34m\u001b[0m\u001b[0m\n\u001b[0;32m---> 33\u001b[0;31m         \u001b[0mself\u001b[0m\u001b[0;34m.\u001b[0m\u001b[0mz_in\u001b[0m \u001b[0;34m=\u001b[0m  \u001b[0mnp\u001b[0m\u001b[0;34m.\u001b[0m\u001b[0mdot\u001b[0m\u001b[0;34m(\u001b[0m\u001b[0mX\u001b[0m\u001b[0;34m,\u001b[0m \u001b[0mself\u001b[0m\u001b[0;34m.\u001b[0m\u001b[0mv\u001b[0m\u001b[0;34m)\u001b[0m \u001b[0;34m+\u001b[0m \u001b[0mself\u001b[0m\u001b[0;34m.\u001b[0m\u001b[0mbv\u001b[0m\u001b[0;34m\u001b[0m\u001b[0;34m\u001b[0m\u001b[0m\n\u001b[0m\u001b[1;32m     34\u001b[0m \u001b[0;34m\u001b[0m\u001b[0m\n\u001b[1;32m     35\u001b[0m         \u001b[0mteste\u001b[0m \u001b[0;34m=\u001b[0m \u001b[0mnp\u001b[0m\u001b[0;34m.\u001b[0m\u001b[0mzeros\u001b[0m\u001b[0;34m(\u001b[0m\u001b[0;34m(\u001b[0m\u001b[0;36m1\u001b[0m\u001b[0;34m,\u001b[0m\u001b[0mself\u001b[0m\u001b[0;34m.\u001b[0m\u001b[0mhidden\u001b[0m\u001b[0;34m)\u001b[0m\u001b[0;34m)\u001b[0m\u001b[0;34m\u001b[0m\u001b[0;34m\u001b[0m\u001b[0m\n",
      "\u001b[0;31mValueError\u001b[0m: operands could not be broadcast together with shapes (4,3) (3,1) "
     ]
    }
   ],
   "source": [
    "aa = nn.feedfoward(x)"
   ]
  },
  {
   "cell_type": "code",
   "execution_count": 89,
   "metadata": {},
   "outputs": [
    {
     "data": {
      "text/plain": [
       "array([[0.28382329],\n",
       "       [0.21874456],\n",
       "       [0.73914609]])"
      ]
     },
     "execution_count": 89,
     "metadata": {},
     "output_type": "execute_result"
    }
   ],
   "source": [
    "np.random.rand(nn.hidden,1)"
   ]
  },
  {
   "cell_type": "code",
   "execution_count": 103,
   "metadata": {},
   "outputs": [
    {
     "data": {
      "text/plain": [
       "array([[-0.13357508],\n",
       "       [-0.34394703],\n",
       "       [ 0.03627582]])"
      ]
     },
     "execution_count": 103,
     "metadata": {},
     "output_type": "execute_result"
    }
   ],
   "source": []
  },
  {
   "cell_type": "code",
   "execution_count": null,
   "metadata": {},
   "outputs": [],
   "source": []
  }
 ],
 "metadata": {
  "kernelspec": {
   "display_name": "Python 3.7.4 64-bit ('base': conda)",
   "language": "python",
   "name": "python37464bitbasecondaed6d82471253478f90c809319e8d2c1d"
  },
  "language_info": {
   "codemirror_mode": {
    "name": "ipython",
    "version": 3
   },
   "file_extension": ".py",
   "mimetype": "text/x-python",
   "name": "python",
   "nbconvert_exporter": "python",
   "pygments_lexer": "ipython3",
   "version": "3.8.3"
  }
 },
 "nbformat": 4,
 "nbformat_minor": 4
}
