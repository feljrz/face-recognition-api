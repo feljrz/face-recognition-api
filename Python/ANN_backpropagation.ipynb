{
 "cells": [
  {
   "cell_type": "code",
   "execution_count": 1,
   "metadata": {},
   "outputs": [],
   "source": [
    "import numpy as np\n",
    "import matplotlib.pyplot as plt"
   ]
  },
  {
   "cell_type": "code",
   "execution_count": 2,
   "metadata": {},
   "outputs": [],
   "source": [
    "class NeuralNetwork:\n",
    "    def __init__(self, input_values, output, hidden_size, alfa, epochs = 300):\n",
    "        self.input = input_values\n",
    "        self.output = output\n",
    "        self.hidden = hidden_size\n",
    "        self.alfa = alfa\n",
    "        self.erro = 0.001\n",
    "        self.epochs = epochs\n",
    "        \n",
    "        #Pesos hidden layer\n",
    "        self.v = np.random.rand(self.input.shape[1], self.hidden) - 0.5\n",
    "        self.bv = np.random.rand(self.hidden, 1) - 0.5\n",
    "\n",
    "        self.delta_inv = np.zeros((self.hidden, 1))\n",
    "        self.delta_v = np.zeros((self.hidden, 1))\n",
    "\n",
    "        #Pesos camada de saída\n",
    "        self.w = np.random.rand(self.hidden, self.output.shape[1]) - 0.5\n",
    "        self.bw = np.random.rand(self.output.shape[1], 1) - 0.5\n",
    "    \n",
    "        self.deltinha_w = np.zeros((self.output.shape[1], 1))\n",
    "\n",
    "    def sigmoid_bipolar(self, z):\n",
    "        return (2/(1+np.exp(-z))) - 1\n",
    "    \n",
    "    def sigmoid_partial(self, z2):\n",
    "        return (0.5 *(1 + z2)*(1 - z2))\n",
    "    \n",
    "    def feed_foward(self, X):\n",
    "        #self.z_in = np.zeros((1,self.hidden)) #Soma das entradas dos neurônios escondidos\n",
    "        #self.z = np.zeros((1, self.hidden)) #Saída dos neurônios escondidos \n",
    "    \n",
    "        #Propagando entrada pela rede:\n",
    "        #XW1 -> Z_in -> sigmoide -> z -> zW2 -> sigmoide -> yhat\n",
    "        \n",
    "        self.z_in =  np.dot(X, self.v) + self.bv.T\n",
    "        self.z =  self.sigmoid_bipolar(self.z_in)\n",
    "        \n",
    "        #Cálculo saída da rede\n",
    "        self.y_in = np.dot(self.z, self.w) + self.bw\n",
    "        yhat = self.sigmoid_bipolar(self.y_in)\n",
    "        return yhat\n",
    "    \n",
    "    \n",
    "    def retropropagation(self, X, y):\n",
    "        yhat = self.feed_foward(X)\n",
    "        \n",
    "        #Cálculo delta da camada de saída\n",
    "        self.deltinha_w = np.multiply((y  -  yhat), self.sigmoid_partial(self.y_in))\n",
    "        self.dEdW = self.alfa * (np.dot(self.z.T, self.deltinha_w)) #dEdW Atualizando os pesos\n",
    "        self.dEdBw = self.alfa * self.deltinha_w\n",
    "    \n",
    "        #Cálculo delta das hidden layers\n",
    "        self.delta_inv = np.multiply(self.deltinha_w, self.w.T)\n",
    "        self.delta_v = np.multiply(self.delta_inv, self.sigmoid_bipolar(self.z))\n",
    "        \n",
    "        #Atualização dos pesos das hiden layers\n",
    "        self.dEdV = self.alfa * (np.dot(X.T, self.delta_v)) #dEdV\n",
    "        self.dEdBv = self.alfa * self.delta_v\n",
    "        return yhat\n",
    "        \n",
    "     \n",
    "    def fit(self, X, y):\n",
    "        yhat = self.retropropagation(X, y)\n",
    "        \n",
    "        #Pesos camada de saída\n",
    "        self.w += self.dEdW\n",
    "        \n",
    "        #Pesos hidden layer\n",
    "        self.v += self.dEdV\n",
    "        return yhat\n",
    "        \n",
    "    def train(self, X, y):\n",
    "        epoch = 0 \n",
    "        erro_total = 0\n",
    "        self.lsm = []\n",
    "        while(epoch < self.epochs):\n",
    "            yhat = self.fit(X, y)\n",
    "            epoch +=1\n",
    "            erro_total += (0.5*((y - yhat)**2))\n",
    "            self.lsm.extend(erro_total)\n",
    "        \n",
    "        tam = len(self.lsm)/2\n",
    "        X_grid = np.array(np.arange(-tam, tam))\n",
    "        plt.scatter(X_grid, self.lsm)\n",
    "        plt.show()\n",
    "        return yhat\n",
    "            \n",
    "        \n",
    "        "
   ]
  },
  {
   "cell_type": "code",
   "execution_count": 3,
   "metadata": {},
   "outputs": [],
   "source": [
    "X = np.array([[1, 1, 1, 0, 0, 1, 0, 0]]).reshape(4,2)\n",
    "y = np.array([[0, 1, 1 ,0]]).reshape(4,1)"
   ]
  },
  {
   "cell_type": "code",
   "execution_count": 6,
   "metadata": {},
   "outputs": [],
   "source": [
    "nn = NeuralNetwork(X, y, 3, 0.01)"
   ]
  },
  {
   "cell_type": "code",
   "execution_count": 7,
   "metadata": {},
   "outputs": [
    {
     "data": {
      "text/plain": [
       "{'input': array([[1, 1],\n",
       "        [1, 0],\n",
       "        [0, 1],\n",
       "        [0, 0]]),\n",
       " 'output': array([[0],\n",
       "        [1],\n",
       "        [1],\n",
       "        [0]]),\n",
       " 'hidden': 3,\n",
       " 'alfa': 0.01,\n",
       " 'erro': 0.001,\n",
       " 'epochs': 300,\n",
       " 'v': array([[-0.14621218,  0.35935327, -0.42625857],\n",
       "        [-0.4930751 , -0.46576412, -0.0969123 ]]),\n",
       " 'bv': array([[-0.20289581],\n",
       "        [-0.00455478],\n",
       "        [-0.08211123]]),\n",
       " 'delta_inv': array([[0.],\n",
       "        [0.],\n",
       "        [0.]]),\n",
       " 'delta_v': array([[0.],\n",
       "        [0.],\n",
       "        [0.]]),\n",
       " 'w': array([[-0.40788861],\n",
       "        [-0.27468146],\n",
       "        [ 0.31966024]]),\n",
       " 'bw': array([[-0.37054843]]),\n",
       " 'deltinha_w': array([[0.]])}"
      ]
     },
     "execution_count": 7,
     "metadata": {},
     "output_type": "execute_result"
    }
   ],
   "source": [
    "nn.__dict__"
   ]
  },
  {
   "cell_type": "code",
   "execution_count": 18,
   "metadata": {},
   "outputs": [
    {
     "data": {
      "image/png": "[encoded data removed]",
      "text/plain": [
       "<Figure size 432x288 with 1 Axes>"
      ]
     },
     "metadata": {
      "needs_background": "light"
     },
     "output_type": "display_data"
    }
   ],
   "source": [
    "y_pred = nn.train(X, y)"
   ]
  },
  {
   "cell_type": "code",
   "execution_count": 19,
   "metadata": {},
   "outputs": [
    {
     "data": {
      "text/plain": [
       "array([[ 0.01611173],\n",
       "       [-0.11036405],\n",
       "       [ 0.00576467],\n",
       "       [-0.12147282]])"
      ]
     },
     "execution_count": 19,
     "metadata": {},
     "output_type": "execute_result"
    }
   ],
   "source": [
    "y_pred"
   ]
  },
  {
   "cell_type": "code",
   "execution_count": 20,
   "metadata": {},
   "outputs": [
    {
     "data": {
      "text/plain": [
       "'\\n    #Retorna a mesma matriz\\n    #teste = np.zeros((1,self.hidden))\\n    teste = []\\n    for i in range(4):\\n        for j in range(self.hidden):\\n            print(f\"{X[i, :]}\")\\n            print(f\"{self.v[:, j]}\")\\n            print(f\"{self.bv[0, j]}\")\\n            aux = (X[i,:] * self.v[:, j]) + self.bv[0, j]\\n            print(f\\'{i}:{j} = {aux}\\')\\n            teste.extend(aux)\\n            \\n    return teste\\n    '"
      ]
     },
     "execution_count": 20,
     "metadata": {},
     "output_type": "execute_result"
    }
   ],
   "source": [
    "    \"\"\"\n",
    "        #Retorna a mesma matriz\n",
    "        #teste = np.zeros((1,self.hidden))\n",
    "        teste = []\n",
    "        for i in range(4):\n",
    "            for j in range(self.hidden):\n",
    "                print(f\"{X[i, :]}\")\n",
    "                print(f\"{self.v[:, j]}\")\n",
    "                print(f\"{self.bv[0, j]}\")\n",
    "                aux = (X[i,:] * self.v[:, j]) + self.bv[0, j]\n",
    "                print(f'{i}:{j} = {aux}')\n",
    "                teste.extend(aux)\n",
    "                \n",
    "        return teste\n",
    "        \"\"\""
   ]
  },
  {
   "cell_type": "code",
   "execution_count": null,
   "metadata": {},
   "outputs": [],
   "source": []
  },
  {
   "cell_type": "code",
   "execution_count": null,
   "metadata": {},
   "outputs": [],
   "source": []
  }
 ],
 "metadata": {
  "kernelspec": {
   "display_name": "Python 3.7.4 64-bit ('base': conda)",
   "language": "python",
   "name": "python37464bitbasecondaed6d82471253478f90c809319e8d2c1d"
  },
  "language_info": {
   "codemirror_mode": {
    "name": "ipython",
    "version": 3
   },
   "file_extension": ".py",
   "mimetype": "text/x-python",
   "name": "python",
   "nbconvert_exporter": "python",
   "pygments_lexer": "ipython3",
   "version": "3.8.3"
  }
 },
 "nbformat": 4,
 "nbformat_minor": 4
}
