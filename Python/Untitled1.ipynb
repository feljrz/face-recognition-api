{
 "cells": [
  {
   "cell_type": "code",
   "execution_count": 2,
   "metadata": {},
   "outputs": [],
   "source": [
    "import numpy as np\n",
    "import matplotlib.pyplot as plt"
   ]
  },
  {
   "cell_type": "code",
   "execution_count": 3,
   "metadata": {},
   "outputs": [],
   "source": [
    "x = np.array([[1, 1, 1, 0, 0, 1, 0, 0]]).reshape(4,2)\n",
    "y = np.array([[1, 0, 1 ,0]]).reshape(4,1)"
   ]
  },
  {
   "cell_type": "code",
   "execution_count": null,
   "metadata": {},
   "outputs": [],
   "source": [
    "neuronios_entrada = 2\n",
    "hidden = input(\"Neurônios camada escondida\")\n",
    "\n",
    "neuronios_saida = 1\n",
    "\n",
    "alfa = 0.01\n",
    "erro = 0.01\n",
    "epochs = 300\n",
    "\n",
    "\n",
    "   v = np.random.randinput.shape[1], hidden) - 0.5\n",
    "    bv = np.random.rand(1, hidden) - 0.5\n",
    "\n",
    "    delta_inv = np.zeros((hidden, 1))\n",
    "    delta_v = np.zeros((hidden, 1))\n",
    "\n",
    "        #Pesos camada de saída\n",
    "        self.w = np.random.rand(self.hidden, self.output.shape[1]) - 0.5\n",
    "        self.bw = np.random.rand(self.hidden, self.output.shape[1]) - 0.5\n",
    "    \n",
    "        self.delta_w = np.zeros((self.hidden, 1))\n"
   ]
  }
 ],
 "metadata": {
  "kernelspec": {
   "display_name": "Python 3.7.4 64-bit ('base': conda)",
   "language": "python",
   "name": "python37464bitbasecondaed6d82471253478f90c809319e8d2c1d"
  },
  "language_info": {
   "codemirror_mode": {
    "name": "ipython",
    "version": 3
   },
   "file_extension": ".py",
   "mimetype": "text/x-python",
   "name": "python",
   "nbconvert_exporter": "python",
   "pygments_lexer": "ipython3",
   "version": "3.8.3"
  }
 },
 "nbformat": 4,
 "nbformat_minor": 4
}
