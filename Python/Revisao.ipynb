{
 "cells": [
  {
   "cell_type": "markdown",
   "metadata": {},
   "source": [
    "\n",
    "<h1>PEP8</h1>\n",
    "\n",
    "<ul>\n",
    "<li>4 espaços para identação</li>\n",
    "<li>Utilizar 2 linhas em branco para separar funções e classes</li>\n",
    "<li>Utilizar CameCase em nome de classe</li>\n",
    "<li>Utilizar letra minúscula e uderline em funções</li>\n",
    "<li>Imports deve ser feito separadamente</li>\n",
    "<li>Em caso de muitos imports -> from lib import (Import_1, Import_2,...)</li>\n",
    "<li>Termine sempre com uma linha em branco</li>\n",
    "</ul>"
   ]
  },
  {
   "cell_type": "markdown",
   "metadata": {},
   "source": [
    "<h1>Dir e Help</h1>\n",
    "<code>\n",
    "dir([object]) #-> Exibe os métodos disponíveis para o objeto\n",
    "help([object]) #-> Exibe a documentação, pode ser invocado em um método sem parênteses\n",
    "</code>"
   ]
  },
  {
   "cell_type": "markdown",
   "metadata": {},
   "source": [
    "# Input e output\n",
    "\n"
   ]
  },
  {
   "cell_type": "code",
   "execution_count": null,
   "metadata": {},
   "outputs": [],
   "source": [
    "input('String') #-> Entrada de dados, pode-se fazer casting\n",
    "x = int(input())\n",
    "nome = string(input())"
   ]
  },
  {
   "cell_type": "code",
   "execution_count": null,
   "metadata": {},
   "outputs": [],
   "source": [
    "print(sep, flush, end, file)\n",
    "print(f'Eu me chamo {nome}' e tenho {anos}) -> Tipo mais atual 3.7\n",
    "print('Eu me chamo {0} e tenho {1}'.format((nome, anos))"
   ]
  },
  {
   "cell_type": "markdown",
   "metadata": {},
   "source": [
    "# Tipos de dados\n",
    "\n",
    "Tipagem dinâmica, ou seja o tipo da variável é definido na atribuição\n",
    "\n"
   ]
  },
  {
   "cell_type": "code",
   "execution_count": null,
   "metadata": {},
   "outputs": [],
   "source": [
    "type() -> Exibe o tipo de dado\n",
    "x, y = 10, 20 -> Dupla atribuição"
   ]
  },
  {
   "cell_type": "markdown",
   "metadata": {},
   "source": [
    "# Numérico\n",
    "\n"
   ]
  },
  {
   "cell_type": "code",
   "execution_count": null,
   "metadata": {},
   "outputs": [],
   "source": [
    "x = 100_000_000 -> Mesmo valor\n",
    "1000000000\n",
    "\n",
    "5 //= 2 -> #Inteiro da divisão \"arredonda\"\n",
    "2\n",
    "\n",
    "float_number = 14.44\n",
    "complex_number = 10j"
   ]
  },
  {
   "cell_type": "markdown",
   "metadata": {},
   "source": [
    "# String\n",
    "Pode ser representado por aspas simples, duplas, ou triplas"
   ]
  },
  {
   "cell_type": "code",
   "execution_count": null,
   "metadata": {},
   "outputs": [],
   "source": [
    "\n",
    "texto = 'banana de pijamas'\n",
    "texto.split() #-> Transforma a string em uma lista, sep default  é '  '\n",
    "texto[::1] #-> Slice de string; O último parâmetro indica o passo\n",
    "texto[::-1] #-> Inversão da string\n",
    "texto.replace('B', 'Q') #-> Substituí na string\n",
    "texto.lower() #-> Passa o texto para minúsculo\n",
    "texto.upper() #-> Passar o texto para maiúsculo\n",
    "texto.title() #-> Transforma em título, colocando as inicias em maiúsculo"
   ]
  },
  {
   "cell_type": "markdown",
   "metadata": {},
   "source": [
    "# Estruturas condicionais"
   ]
  },
  {
   "cell_type": "code",
   "execution_count": null,
   "metadata": {},
   "outputs": [],
   "source": [
    "\n",
    "#if; else; elif(else if); switch case statement:\n",
    "def agua():\n",
    "    print(\"Água é vida\")\n",
    "\n",
    "def coca(x):\n",
    "    print(f\"Coca-Cola é {x}\")\n",
    "\n",
    "option_dict = {0: agua, 1: coca}\n",
    "option_dict[1]('ruim')\n"
   ]
  },
  {
   "cell_type": "markdown",
   "metadata": {},
   "source": [
    "# Operadores"
   ]
  },
  {
   "cell_type": "code",
   "execution_count": null,
   "metadata": {},
   "outputs": [],
   "source": [
    "\n",
    "-Operador unário: not\n",
    "-Operador binário: and, or, is"
   ]
  },
  {
   "cell_type": "markdown",
   "metadata": {},
   "source": [
    "# Loops"
   ]
  },
  {
   "cell_type": "code",
   "execution_count": null,
   "metadata": {},
   "outputs": [],
   "source": [
    "#Iteráveis:\n",
    "enumerate() (Cria uma tupla (índice, elemento)), range(), string, dictionary\n",
    "\n",
    "for _, value in enumerate(text): -> '_' indica que o valor está sendo descartado\n",
    "\n",
    "while x < 10: Obs: Não existe o do while\n",
    "    break\n"
   ]
  },
  {
   "cell_type": "markdown",
   "metadata": {},
   "source": [
    "# Listas\n",
    "Funcionam como arrays de outras linguagens porém são dinâmicas e aceitam QUALQUER tipo de dado, inclusive variáveis e funções<br>\n",
    "Lembrar que a posição começa em 0, porém o inverso começa em -1\n"
   ]
  },
  {
   "cell_type": "code",
   "execution_count": null,
   "metadata": {},
   "outputs": [],
   "source": [
    "lista = ['Água', 1, (1, 3, 5), [9, 8, 56]] OU list(range(1, 8, 2))\n",
    "lista.sort() -> Ordena a lista; Mais rápido que muitos sorts à mão\n",
    "lista.append() -> Concatena um objeto\n",
    "lista.extend([iterável]) -> Concatena elementos um a um no final\n",
    "lista.insert(pos, value) -> Insere um novo valor deslocando o antigo à direita\n",
    "lista.index(object, start, end) -> Retorna o índice do objeto na lista\n",
    "lista.reverse() OU lista[::-1]-> Inverte a lista\n",
    "lista.pop() -> Retorna o último elemento da lista\n",
    "string = '  '.join(lista) -> Transforma a lista em uma string\n",
    "\n",
    "len(lista) -> Retorna o número de elementos da lista\n",
    "\n",
    "\n",
    "num1, num2, num3, = 44, 55, 66\n",
    "lista = ['Água', 1, (1, 3, 5), [9, 22, 55, 8, 56]]\n",
    "lista_2 = list(range(0, 10, 2))\n",
    "lista_3 = ['Felipe', 'Junio', 'Rezende']\n",
    "lista_4 = [num1, num2, num3]\n",
    "#print(f\"Lista 1: {lista[3][2]} Lista 2: {lista_2}\")\n",
    "#print(f\"Tamanho 1: {len(lista[3])} Tamanho 2:{len(lista)} \")\n",
    "x = '  '.join(lista_3)\n",
    "def funcao():\n",
    "    return 'Dentro da funcão'\n",
    "lista_4.append(funcao)\n",
    "print(f\"Teste: {lista_4.index(44)} Tipo: {type(lista[2])}\")"
   ]
  },
  {
   "cell_type": "markdown",
   "metadata": {},
   "source": [
    "# Tuplas"
   ]
  },
  {
   "cell_type": "code",
   "execution_count": null,
   "metadata": {},
   "outputs": [],
   "source": [
    "dicionario = {1: 'x', 2: 'y'}\n",
    "tupla = (\"Arroz\", 1, 21, 14.7, dicionario)\n",
    "tupla2 = 11, \"Feijão\" #Não recomendado\n",
    "tupla_unitaria = (\"Salada\",)\n",
    "tupla_aninhada = (\"Carne\", [5, 22, 43, 22], (1, 21, 33))\n",
    "\n",
    "#print(f'Tupla:\\n{tupla}\\n')\n",
    "#print(f'Tupla unitaria:\\n{tupla_unitaria[0][1:3]}')\n",
    "#print(f'Tupla aninhada:\\n{tupla_aninhada[0][2]}, \\n {tupla_aninhada[2][3]}')\n",
    "\n",
    "a, b, c, d, e = tupla\n",
    "#print(f'A: {a} B:{b} C:{c} D:{d} E:{e}')"
   ]
  },
  {
   "cell_type": "markdown",
   "metadata": {},
   "source": [
    "# POO\n",
    "<h2> Classes </h2>"
   ]
  },
  {
   "cell_type": "code",
   "execution_count": 6,
   "metadata": {},
   "outputs": [],
   "source": [
    "class Lampada:\n",
    "    pass\n",
    "\n",
    "class Produto:\n",
    "    #Atributo de Classe; Por definição é sempre público\n",
    "    imposto = 1.75\n",
    "    contador = 0\n",
    "    #Atributo de Instância\n",
    "    def __init__(self, nome, valor):\n",
    "        self.id = Produto.contador +1\n",
    "        self.nome = nome\n",
    "        self.valor = (valor * Produto.imposto)\n",
    "        self.nome = nome\n",
    "        self.__codigo_de_barras = 0 #Privado (Acessível somente na classe)\n",
    "        self._vendedor = \"Maria\" #Protected (Acessível pelos membros da classe e subclasses)"
   ]
  },
  {
   "cell_type": "markdown",
   "metadata": {},
   "source": [
    "<h2>Instância</h2>"
   ]
  },
  {
   "cell_type": "code",
   "execution_count": 8,
   "metadata": {},
   "outputs": [
    {
     "data": {
      "text/plain": [
       "1.75"
      ]
     },
     "execution_count": 8,
     "metadata": {},
     "output_type": "execute_result"
    }
   ],
   "source": [
    "p1 = Produto(Lampada, 200)\n",
    "Produto.imposto #Forma correta de acessar um atributo de classe\n",
    "#print(p1.__codigo_de_barras) ->AttributeError"
   ]
  },
  {
   "cell_type": "code",
   "execution_count": 12,
   "metadata": {},
   "outputs": [
    {
     "name": "stdout",
     "output_type": "stream",
     "text": [
      "{'id': 1, 'nome': <class '__main__.Lampada'>, 'valor': 350.0, '_Produto__codigo_de_barras': 0, '_vendedor': 'Maria'}\n",
      "{'id': 1, 'nome': 'Instagram', 'valor': 7000.0, '_Produto__codigo_de_barras': 0, '_vendedor': 'Maria', 'setor': 'Marketing'}\n"
     ]
    }
   ],
   "source": [
    "p2 = Produto(\"Instagram\", 4000)\n",
    "#Atributo Dinâmico\n",
    "p2.setor = \"Marketing\"\n",
    "print(p1.__dict__)\n",
    "print(p2.__dict__)"
   ]
  },
  {
   "cell_type": "markdown",
   "metadata": {},
   "source": [
    "## Metodos\n",
    "São escritos em letra minúscula se necessário a separação utilize \" _ \""
   ]
  },
  {
   "cell_type": "code",
   "execution_count": 54,
   "metadata": {},
   "outputs": [],
   "source": [
    "class Pessoa:\n",
    "    def __init__(self, nome, ocupacao):\n",
    "        self.__nome = nome\n",
    "        self._ocupacao = ocupacao\n",
    "        \n",
    "    def quem_sou(self):\n",
    "        return f'Sou {self.__nome}'\n",
    "    \n",
    "    \n",
    "class Funcionarios:\n",
    "    total = 0\n",
    "    \n",
    "    def __init__(self, salario, pessoa):\n",
    "        Funcionarios.total += 1\n",
    "        self.__id = Funcionarios.total\n",
    "        self.__cargo = pessoa._ocupacao\n",
    "        self.__salario = salario\n",
    "        self.__pessoa = pessoa\n",
    "    \n",
    "    #Método de instância\n",
    "    def get_nome(self):\n",
    "        return f'{self.__pessoa.Pessoa__nome} do cargo {self.__cargo}' #Acessando atributos de outra classe\n",
    "\n",
    "    #Utilizada para acessar os atributos de classe (Static)\n",
    "    @classmethod\n",
    "    def total_funcionarios(cls):\n",
    "        return f'A empresa tem no total {cls.total} funcionários'\n",
    "    \n",
    "    #Não faz acesso nem aos atributos de classe ou instância\n",
    "    @staticmethod\n",
    "    def sede():\n",
    "        return 'Mogi das cruzes'\n",
    "    "
   ]
  },
  {
   "cell_type": "code",
   "execution_count": 55,
   "metadata": {},
   "outputs": [
    {
     "name": "stdout",
     "output_type": "stream",
     "text": [
      "{'_Funcionarios__id': 1, '_Funcionarios__cargo': 'Marceneiro', '_Funcionarios__salario': 2000, '_Funcionarios__pessoa': <__main__.Pessoa object at 0x7f4ad0f7b2b0>}\n"
     ]
    },
    {
     "ename": "AttributeError",
     "evalue": "'Pessoa' object has no attribute 'Pessoa__nome'",
     "output_type": "error",
     "traceback": [
      "\u001b[0;31m---------------------------------------------------------------------------\u001b[0m",
      "\u001b[0;31mAttributeError\u001b[0m                            Traceback (most recent call last)",
      "\u001b[0;32m<ipython-input-55-b0616606071b>\u001b[0m in \u001b[0;36m<module>\u001b[0;34m\u001b[0m\n\u001b[1;32m      3\u001b[0m \u001b[0mprint\u001b[0m\u001b[0;34m(\u001b[0m\u001b[0mfuncionario\u001b[0m\u001b[0;34m.\u001b[0m\u001b[0m__dict__\u001b[0m\u001b[0;34m)\u001b[0m\u001b[0;34m\u001b[0m\u001b[0;34m\u001b[0m\u001b[0m\n\u001b[1;32m      4\u001b[0m \u001b[0mfuncionario\u001b[0m\u001b[0;34m.\u001b[0m\u001b[0m_Funcionarios__pessoa\u001b[0m\u001b[0;34m.\u001b[0m\u001b[0mquem_sou\u001b[0m\u001b[0;34m(\u001b[0m\u001b[0;34m)\u001b[0m \u001b[0;31m#Forma errada, mas possível é possível acessar um objeto a partir de outro\u001b[0m\u001b[0;34m\u001b[0m\u001b[0;34m\u001b[0m\u001b[0m\n\u001b[0;32m----> 5\u001b[0;31m \u001b[0mfuncionario\u001b[0m\u001b[0;34m.\u001b[0m\u001b[0mget_nome\u001b[0m\u001b[0;34m(\u001b[0m\u001b[0;34m)\u001b[0m\u001b[0;34m\u001b[0m\u001b[0;34m\u001b[0m\u001b[0m\n\u001b[0m",
      "\u001b[0;32m<ipython-input-54-27e79acf6651>\u001b[0m in \u001b[0;36mget_nome\u001b[0;34m(self)\u001b[0m\n\u001b[1;32m     20\u001b[0m     \u001b[0;31m#Método de instância\u001b[0m\u001b[0;34m\u001b[0m\u001b[0;34m\u001b[0m\u001b[0;34m\u001b[0m\u001b[0m\n\u001b[1;32m     21\u001b[0m     \u001b[0;32mdef\u001b[0m \u001b[0mget_nome\u001b[0m\u001b[0;34m(\u001b[0m\u001b[0mself\u001b[0m\u001b[0;34m)\u001b[0m\u001b[0;34m:\u001b[0m\u001b[0;34m\u001b[0m\u001b[0;34m\u001b[0m\u001b[0m\n\u001b[0;32m---> 22\u001b[0;31m         \u001b[0;32mreturn\u001b[0m \u001b[0;34mf'{self.__pessoa.Pessoa__nome} do cargo {self.__cargo}'\u001b[0m \u001b[0;31m#Acessando atributos de outra classe\u001b[0m\u001b[0;34m\u001b[0m\u001b[0;34m\u001b[0m\u001b[0m\n\u001b[0m\u001b[1;32m     23\u001b[0m \u001b[0;34m\u001b[0m\u001b[0m\n\u001b[1;32m     24\u001b[0m     \u001b[0;31m#Utilizada para acessar os atributos de classe (Static)\u001b[0m\u001b[0;34m\u001b[0m\u001b[0;34m\u001b[0m\u001b[0;34m\u001b[0m\u001b[0m\n",
      "\u001b[0;31mAttributeError\u001b[0m: 'Pessoa' object has no attribute 'Pessoa__nome'"
     ]
    }
   ],
   "source": [
    "pessoa1 = Pessoa(\"Joao\", 'Marceneiro')\n",
    "funcionario = Funcionarios(2000, pessoa1)\n",
    "print(funcionario.__dict__)\n",
    "funcionario._Funcionarios__pessoa.quem_sou() #Forma errada, mas possível é possível acessar um objeto a partir de outro\n",
    "funcionario.get_nome()"
   ]
  },
  {
   "cell_type": "code",
   "execution_count": null,
   "metadata": {},
   "outputs": [],
   "source": []
  },
  {
   "cell_type": "code",
   "execution_count": null,
   "metadata": {},
   "outputs": [],
   "source": []
  }
 ],
 "metadata": {
  "kernelspec": {
   "display_name": "Python 3",
   "language": "python",
   "name": "python3"
  },
  "language_info": {
   "codemirror_mode": {
    "name": "ipython",
    "version": 3
   },
   "file_extension": ".py",
   "mimetype": "text/x-python",
   "name": "python",
   "nbconvert_exporter": "python",
   "pygments_lexer": "ipython3",
   "version": "3.8.3"
  }
 },
 "nbformat": 4,
 "nbformat_minor": 4
}
