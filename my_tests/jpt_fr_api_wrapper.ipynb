{
 "metadata": {
  "language_info": {
   "codemirror_mode": {
    "name": "ipython",
    "version": 3
   },
   "file_extension": ".py",
   "mimetype": "text/x-python",
   "name": "python",
   "nbconvert_exporter": "python",
   "pygments_lexer": "ipython3",
   "version": "3.8.0-final"
  },
  "orig_nbformat": 2,
  "kernelspec": {
   "name": "python3",
   "display_name": "Python 3",
   "language": "python"
  }
 },
 "nbformat": 4,
 "nbformat_minor": 2,
 "cells": [
  {
   "cell_type": "code",
   "execution_count": 1,
   "metadata": {},
   "outputs": [
    {
     "output_type": "stream",
     "name": "stdout",
     "text": [
      "Import sem erros\n"
     ]
    }
   ],
   "source": [
    "import face_recognition as fr\n",
    "import numpy as np\n",
    "import cv2\n",
    "import matplotlib.pyplot as plt\n",
    "import os\n",
    "import pandas as pd\n",
    "import sklearn\n",
    "import math\n",
    "import pickle #Estudar sobre\n",
    "from flask import Flask, render_template, Response\n",
    "print(\"Import sem erros\")\n",
    "\n",
    "\n",
    "def resizeImage(image, **kwargs):\n",
    "    if 'scale' in kwargs.keys():\n",
    "        scale = kwargs.get('scale')\n",
    "        x = int(image.shape[0] * scale)\n",
    "        y = int(image.shape[1] * scale)\n",
    "    return cv2.resize(image, dsize=(x, y), interpolation=cv2.INTER_AREA)\n",
    "\n",
    "def compare_images(im1, im2):\n",
    "    plt.Figure(figsize=(10, 10))\n",
    "    plt.subplot(121)\n",
    "    plt.imshow(im1)\n",
    "    plt.subplot(122)\n",
    "    plt.imshow(im2)\n",
    "\n",
    "def load_image(path, gray=True):\n",
    "    im = cv2.imread(path)\n",
    "    if gray: im = cv2.cv2tColor(im, cv2.COLOR_BGR2RGB)\n",
    "    return im\n",
    "\n",
    "def flat_images(images):\n",
    "    #Flatten the images array\n",
    "    n, m = images[0].shape\n",
    "    k = len(images)\n",
    "    flat_images = np.zeros((n * m, k), dtype='uint8').T\n",
    "   \n",
    "    for i in range(k):\n",
    "        flat_images[i] = images[i].flatten()\n",
    "    return flat_images\n",
    "\n",
    "\n",
    "def plotSample(images, labels):\n",
    "    size = len(images)\n",
    "    plot_size = np.array(list((3,4))) * 4\n",
    "    plt.figure(figsize=tuple(plot_size))\n",
    "    for i in range(12):\n",
    "        plt.subplot(3,4, i+1)\n",
    "        plt.imshow(images[i])\n",
    "        plt.yticks([])\n",
    "        plt.xticks([])\n",
    "        plt.xlabel(labels[i])\n",
    "    plt.show()\n",
    "   \n",
    "#Lmebrar que esta recebe a predição com distância = True\n",
    "#Errado\n",
    "def get_labels(labels, knn_pred):\n",
    "   names = []\n",
    "   index_pred = [i for i in knn_pred[1][0]]\n",
    "   for i in index_pred:\n",
    "       names.append(labels[i])\n",
    "   return names\n",
    "\n",
    "def read_dir(directory, for_one=False, retrieve_one_image=False):\n",
    "    path = []\n",
    "    images = []\n",
    "    data = []\n",
    "    \n",
    "    if not(for_one):\n",
    "        for sub_folder in os.listdir(directory):\n",
    "            for filename in os.listdir(os.path.join(directory, sub_folder)):\n",
    "                image_path = directory+'/'+sub_folder+'/'+filename\n",
    "                data.append({\"Name\": sub_folder, 'Path': image_path})\n",
    "                if retrieve_one_image:\n",
    "                    break\n",
    "    else:\n",
    "        for image in os.listdir(directory):\n",
    "            image_path = os.path.join(directory,image)\n",
    "            data.append({\"Name\": directory.split('/').pop(), \"Path\":image_path})            \n",
    "     \n",
    "    df = pd.DataFrame(data)\n",
    "    return df\n",
    "\n",
    "def read_image(path):\n",
    "    images = []\n",
    "    for x in path:\n",
    "        im = cv2.imread(x)\n",
    "        im = cv2.cvtColor(im, cv2.COLOR_BGR2RGB)\n",
    "        images.append(im)\n",
    "    return images\n",
    "\n",
    "\n",
    "def knn_train(X_train, y_train, model_save_path=None, threads=-1):\n",
    "    from sklearn.neighbors import KNeighborsClassifier\n",
    "    n_neighbors = int(math.sqrt(len(X_train))) #Sera susbtituído pelo elbow method\n",
    "    \n",
    "    model = KNeighborsClassifier(n_neighbors= n_neighbors, weights='distance', algorithm='auto', p=2, metric='minkowski', n_jobs = threads)\n",
    "    model.fit(X_train, y_train)\n",
    "    if model_save_path:\n",
    "        save_binary(model, model_save_path)\n",
    "    \n",
    "    return model\n",
    "\n",
    "def knn_predict_(image, model_path=None, verbose=False):\n",
    "    if model_path:\n",
    "        with open(model_path, 'rb') as f:\n",
    "            model = pickle.load(f)\n",
    "   \n",
    "    y_pred = model.kneighbors(image, n_neighbors=1)\n",
    "   \n",
    "    return y_pred\n",
    "\n",
    "def save_binary(model, path):\n",
    "    with open(path, 'wb') as f:\n",
    "        pickle.dump(model, f)\n",
    "\n",
    "def load_binary(path):\n",
    "    with open(path, 'rb') as f:\n",
    "        model = pickle.load(f)\n",
    "    return model\n",
    "\n",
    "def unpaking_array(*args):\n",
    "    new_list = list\n",
    "    \n",
    "    \n",
    "def first_train(train_dir, model_save_path):\n",
    "    df = read_dir(train_dir, retrieve_one_image=True)\n",
    "    df = df.iloc[:1500, :] #Here because of the Dataset \n",
    "    df['Image'] = read_image(df['Path'])\n",
    "    print(df.head(10))\n",
    "\n",
    "    df[\"Face Location\"] = df[\"Image\"].apply(lambda x: fr.face_locations(x, 2, model=\"hog\"))\n",
    "    df[\"Face Encoding\"] = df.apply(lambda x: fr.face_encodings(x[\"Image\"], x[\"Face Location\"]), axis=1)\n",
    "    print(df.head(10))\n",
    "\n",
    "    # model = knn_train([x[0] for x in df['Face Encoding']], df['Name'].values, model_save_path)\n",
    "    model = [x for x in df['Face Encoding']]\n",
    "    return model, df\n",
    "\n",
    "    \n"
   ]
  },
  {
   "cell_type": "code",
   "execution_count": 2,
   "metadata": {},
   "outputs": [],
   "source": [
    "# Realizando leitura do dataset\n",
    "\n",
    "# if __name__ == '__main__':\n",
    "model_save_path = \"./knn_model.clf\"\n",
    "train_dir = \"archive/lfw-deepfunneled\"\n",
    "df_save_path = 'bkp/dataset_example.pkl'\n",
    "\n",
    "\n",
    "# model, df = first_train(train_dir, model_save_path)\n"
   ]
  },
  {
   "cell_type": "code",
   "execution_count": 13,
   "metadata": {},
   "outputs": [
    {
     "output_type": "stream",
     "name": "stdout",
     "text": [
      "                Name                                               Path  \\\n0        Hugo_Colace  archive/lfw-deepfunneled/Hugo_Colace/Hugo_Cola...   \n1      Alexis_Bledel  archive/lfw-deepfunneled/Alexis_Bledel/Alexis_...   \n2        Jim_Schwarz  archive/lfw-deepfunneled/Jim_Schwarz/Jim_Schwa...   \n3  Patti_Balgojevich  archive/lfw-deepfunneled/Patti_Balgojevich/Pat...   \n4  Yekaterina_Guseva  archive/lfw-deepfunneled/Yekaterina_Guseva/Yek...   \n5        Bruce_Arena  archive/lfw-deepfunneled/Bruce_Arena/Bruce_Are...   \n6      Harland_Braun  archive/lfw-deepfunneled/Harland_Braun/Harland...   \n7         Ken_Wharfe  archive/lfw-deepfunneled/Ken_Wharfe/Ken_Wharfe...   \n8    Anatoliy_Kinakh  archive/lfw-deepfunneled/Anatoliy_Kinakh/Anato...   \n9    Ronald_Young_Jr  archive/lfw-deepfunneled/Ronald_Young_Jr/Ronal...   \n\n                                               Image  \n0  [[[143, 137, 87], [143, 137, 87], [144, 138, 8...  \n1  [[[77, 46, 51], [76, 45, 50], [74, 45, 49], [7...  \n2  [[[0, 0, 0], [0, 0, 0], [0, 0, 0], [0, 0, 0], ...  \n3  [[[0, 0, 0], [0, 0, 0], [0, 0, 0], [0, 0, 0], ...  \n4  [[[4, 1, 0], [3, 1, 0], [190, 189, 168], [183,...  \n5  [[[0, 0, 0], [0, 0, 0], [0, 0, 0], [0, 0, 0], ...  \n6  [[[0, 0, 2], [0, 0, 2], [0, 0, 2], [0, 0, 2], ...  \n7  [[[0, 0, 4], [0, 0, 4], [0, 0, 2], [0, 0, 2], ...  \n8  [[[0, 0, 0], [0, 0, 0], [0, 0, 0], [0, 0, 0], ...  \n9  [[[173, 176, 181], [176, 179, 184], [178, 182,...  \n"
     ]
    }
   ],
   "source": [
    "\n",
    "df = read_dir(train_dir, retrieve_one_image=True)\n",
    "df = df.iloc[:1500, :] #Here because of the Dataset \n",
    "df['Image'] = read_image(df['Path'])\n",
    "print(df.head(10))"
   ]
  },
  {
   "cell_type": "code",
   "execution_count": 21,
   "metadata": {},
   "outputs": [
    {
     "output_type": "stream",
     "name": "stdout",
     "text": [
      "Fim encode\n"
     ]
    }
   ],
   "source": [
    "df[\"Face Location\"] = df[\"Image\"].apply(lambda x: fr.face_locations(x, 2, model=\"hog\"))\n",
    "df[\"Face Encoding\"] = df.apply(lambda x: fr.face_encodings(x[\"Image\"], x[\"Face Location\"]), axis=1)\n",
    "df.to_pickle(df_save_path) #parquet does not support 2D arrays\n",
    "print(\"Fim encode\")\n"
   ]
  },
  {
   "cell_type": "code",
   "execution_count": 40,
   "metadata": {},
   "outputs": [],
   "source": [
    "df.to_pickle(df_save_path)"
   ]
  },
  {
   "cell_type": "code",
   "execution_count": 3,
   "metadata": {},
   "outputs": [
    {
     "output_type": "stream",
     "name": "stdout",
     "text": [
      "<class 'pandas.core.frame.DataFrame'>\nRangeIndex: 1500 entries, 0 to 1499\nData columns (total 5 columns):\n #   Column         Non-Null Count  Dtype \n---  ------         --------------  ----- \n 0   Name           1500 non-null   object\n 1   Path           1500 non-null   object\n 2   Image          1500 non-null   object\n 3   Face Location  1500 non-null   object\n 4   Face Encoding  1500 non-null   object\ndtypes: object(5)\nmemory usage: 58.7+ KB\n"
     ]
    }
   ],
   "source": [
    "df = pd.read_pickle(df_save_path)\n",
    "df.info()\n"
   ]
  },
  {
   "cell_type": "code",
   "execution_count": 6,
   "metadata": {},
   "outputs": [
    {
     "output_type": "execute_result",
     "data": {
      "text/plain": [
       "array([list([array([-1.91417083e-01,  1.95971265e-01,  2.98056640e-02, -1.40309753e-03,\n",
       "              -1.62832886e-01,  5.73441423e-02,  2.68988498e-02, -7.83351064e-02,\n",
       "               1.19494982e-01,  2.48833857e-02,  2.14858279e-01, -1.61701068e-02,\n",
       "              -3.00058275e-01, -1.54402955e-02, -8.53237063e-02,  7.82236904e-02,\n",
       "              -1.30104274e-01, -1.51656300e-01, -1.30642578e-01, -6.25630170e-02,\n",
       "               1.28162161e-01,  3.90405729e-02, -5.65032102e-02,  6.30049407e-02,\n",
       "              -2.13056833e-01, -3.15944254e-01, -7.68395737e-02, -1.44707244e-02,\n",
       "               8.17304775e-02, -1.40941784e-01, -9.08156857e-04,  1.73249207e-02,\n",
       "              -1.96565345e-01, -4.75858562e-02,  3.14136371e-02,  6.17821515e-02,\n",
       "              -1.36305420e-02, -5.47061153e-02,  2.33899742e-01, -3.51284072e-03,\n",
       "              -1.41272202e-01,  8.32951069e-02,  1.25700638e-01,  3.24241579e-01,\n",
       "               1.36166394e-01, -1.42994476e-02,  2.39175074e-02, -5.41552939e-02,\n",
       "               1.03554986e-01, -2.50845939e-01,  6.54276162e-02,  1.88776270e-01,\n",
       "               1.74143642e-01,  6.93112314e-02,  8.68806913e-02, -1.88598171e-01,\n",
       "              -8.15158635e-02,  1.98954269e-01, -1.67153046e-01,  1.10632688e-01,\n",
       "               5.54222167e-02, -1.11576997e-01, -8.12260062e-02, -1.58477306e-01,\n",
       "               1.00858279e-01,  9.25120935e-02, -1.06465235e-01, -1.74296021e-01,\n",
       "               1.39662221e-01, -1.08712718e-01, -1.94984935e-02,  8.94642994e-02,\n",
       "              -6.89767450e-02, -1.56663284e-01, -2.52092808e-01,  1.28782600e-01,\n",
       "               4.64644939e-01,  1.79254949e-01, -2.22641617e-01, -1.13478079e-02,\n",
       "              -7.02659041e-02, -2.99880989e-02,  2.30019428e-02, -4.92333062e-02,\n",
       "              -1.38138697e-01, -5.02118059e-02, -1.58805743e-01,  1.31928682e-01,\n",
       "               2.11498350e-01,  4.96027097e-02,  7.61572970e-03,  1.97169811e-01,\n",
       "               9.34295431e-02,  2.70074997e-02,  2.93594375e-02,  4.38130200e-02,\n",
       "              -1.75473019e-01, -2.86518149e-02, -1.23848133e-01,  4.14347872e-02,\n",
       "              -1.82903539e-02, -1.01828463e-01,  2.83702239e-02,  8.56849924e-02,\n",
       "              -1.20738506e-01,  1.41195163e-01,  4.54975441e-02, -4.64035347e-02,\n",
       "              -9.70395803e-02, -1.85961835e-06, -1.58968359e-01,  5.32254875e-02,\n",
       "               1.50577039e-01, -2.97946900e-01,  2.01671511e-01,  1.07124254e-01,\n",
       "               8.25999957e-03,  1.27544761e-01,  1.13620065e-01,  2.40644030e-02,\n",
       "               2.23348103e-02, -4.87508811e-03, -1.12518512e-01, -1.03989825e-01,\n",
       "               1.03930607e-01, -1.16519839e-01,  8.08396861e-02,  9.26502235e-03])])   ,\n",
       "       list([array([-0.10307143,  0.04149237,  0.05287467, -0.13457897, -0.13332392,\n",
       "              -0.02538197, -0.08101065, -0.17214024,  0.12886019, -0.09205626,\n",
       "               0.04292386, -0.01692259, -0.29003701, -0.01666768, -0.02088364,\n",
       "               0.13513365, -0.18600027, -0.24994349,  0.04896533, -0.04338428,\n",
       "              -0.04384074,  0.01805848,  0.01122762,  0.14059901, -0.17023043,\n",
       "              -0.32394916, -0.12779829, -0.11226584, -0.10748359, -0.06997491,\n",
       "               0.08408306,  0.07625048, -0.07770216,  0.05770246,  0.06275988,\n",
       "               0.12972666, -0.04723006, -0.13632016,  0.22653778,  0.16255756,\n",
       "              -0.27061638, -0.09949477,  0.09789232,  0.36421728,  0.33515865,\n",
       "              -0.04698864,  0.03018689,  0.0158054 ,  0.24498464, -0.33864853,\n",
       "               0.04397907,  0.14522585,  0.07201419,  0.05686563,  0.11947162,\n",
       "              -0.14935361,  0.00647329,  0.14238721, -0.17924535,  0.09894099,\n",
       "               0.04551528, -0.18638179,  0.04830514, -0.03241986,  0.281535  ,\n",
       "               0.11985353, -0.1752806 , -0.12001284,  0.27078333, -0.17610118,\n",
       "              -0.16575883,  0.05854329, -0.1716864 , -0.12725855, -0.27074474,\n",
       "               0.0252797 ,  0.37027854,  0.13309288, -0.12886761,  0.01358265,\n",
       "              -0.06131118,  0.00371072, -0.03760717,  0.23975313,  0.04135441,\n",
       "              -0.05410167, -0.07315106, -0.08064419,  0.26082569, -0.01885124,\n",
       "              -0.03973351,  0.25422537, -0.04126055,  0.03176762,  0.06818511,\n",
       "               0.08176003, -0.17614606, -0.00248075, -0.17294055, -0.09210091,\n",
       "              -0.02346461, -0.03934955,  0.0747913 ,  0.17404097, -0.17235965,\n",
       "               0.18634012, -0.01339717, -0.03006155, -0.05540148, -0.01885507,\n",
       "              -0.07122594, -0.0237941 ,  0.15827397, -0.26275796,  0.18542938,\n",
       "               0.14393538,  0.07798974,  0.10309022,  0.02821833,  0.01793873,\n",
       "               0.02349091, -0.05323352, -0.06732667, -0.07816608, -0.01332379,\n",
       "               0.00641614, -0.02118349,  0.04700159])])                             ,\n",
       "       list([array([-0.11208726,  0.04770222,  0.03647432, -0.03834006, -0.12839065,\n",
       "              -0.00968993,  0.00829989, -0.10913638,  0.10865576,  0.08817329,\n",
       "               0.19425154, -0.08919588, -0.21256195, -0.1007108 , -0.03982225,\n",
       "               0.04778323, -0.14484051, -0.0870592 , -0.09898332, -0.13979736,\n",
       "               0.06367701, -0.02343456,  0.07088258,  0.07251317, -0.16503227,\n",
       "              -0.28122225, -0.09211504, -0.16833022,  0.10025125, -0.14134204,\n",
       "               0.07270344,  0.05231572, -0.18316773, -0.09293358,  0.01250518,\n",
       "               0.0703536 , -0.04546146, -0.04725946,  0.24150106, -0.10042721,\n",
       "              -0.05389693,  0.08647107,  0.10834211,  0.25950873,  0.20754573,\n",
       "               0.1121878 ,  0.04310368,  0.02909817,  0.20896573, -0.29028273,\n",
       "               0.02492999,  0.14727107,  0.14699648,  0.00059845,  0.13820273,\n",
       "              -0.19118939,  0.02034912,  0.10949038, -0.24554828,  0.20501147,\n",
       "              -0.02026535, -0.06387245, -0.052934  , -0.05188144,  0.17097811,\n",
       "               0.12870452, -0.06846815, -0.13034752,  0.16783272, -0.21057972,\n",
       "               0.03127706,  0.13945335, -0.13073106, -0.15136614, -0.22961462,\n",
       "              -0.00569852,  0.45104074,  0.04442861, -0.2054009 ,  0.02127851,\n",
       "              -0.01401582,  0.02158468,  0.02952229, -0.02526629, -0.11735747,\n",
       "              -0.05698982, -0.16668785, -0.01325589,  0.20433849, -0.05497877,\n",
       "              -0.00440613,  0.24498497,  0.05740003,  0.03234693,  0.06912582,\n",
       "               0.00514329, -0.08642332, -0.023743  , -0.05626046,  0.08121592,\n",
       "               0.02438648, -0.17100458,  0.02270668, -0.02762891, -0.1500382 ,\n",
       "               0.11989342, -0.04854421,  0.01663602, -0.13018382, -0.02428526,\n",
       "              -0.12704778,  0.05037339,  0.24870564, -0.34875292,  0.22672504,\n",
       "               0.19096087, -0.08803181,  0.12163706, -0.02487279,  0.08178473,\n",
       "               0.00782354,  0.08055171, -0.0500926 , -0.10945683, -0.03364383,\n",
       "              -0.12570083, -0.02171785,  0.05169093])])                             ,\n",
       "       ...,\n",
       "       list([array([-0.10157943,  0.05341316,  0.08426636, -0.06425373, -0.01314774,\n",
       "              -0.15024917,  0.07620914, -0.08194015,  0.19228087, -0.05454541,\n",
       "               0.19243769, -0.03210598, -0.18391533, -0.10726957, -0.0654261 ,\n",
       "               0.1168521 , -0.10210919, -0.1278535 , -0.12577322, -0.10160641,\n",
       "               0.06134455,  0.03659375,  0.0308676 , -0.03514516, -0.19888364,\n",
       "              -0.26448473, -0.04914068, -0.13107781,  0.0464119 , -0.03580717,\n",
       "               0.05657116,  0.14357126, -0.14881711, -0.12262118, -0.01905659,\n",
       "               0.06159538, -0.02778507, -0.03008943,  0.24190556,  0.0539792 ,\n",
       "              -0.16229653,  0.1018867 ,  0.03267502,  0.33798227,  0.28454104,\n",
       "              -0.05673588,  0.05473476, -0.11180614,  0.18378387, -0.31830087,\n",
       "               0.08992251,  0.09291903,  0.11791959,  0.12867361,  0.19921729,\n",
       "              -0.11456207,  0.07119964,  0.0852274 , -0.25286376,  0.0362522 ,\n",
       "               0.06772546,  0.06238656,  0.02047842, -0.06999387,  0.12621641,\n",
       "               0.07360826, -0.07180623, -0.03155083,  0.13154656, -0.17031007,\n",
       "              -0.01190259,  0.0689486 , -0.12436978, -0.10537476, -0.32430959,\n",
       "               0.07673017,  0.32696557,  0.1773061 , -0.13231641,  0.06044764,\n",
       "              -0.07305738,  0.00967986,  0.08725578, -0.07136374, -0.12220656,\n",
       "              -0.02385339, -0.02607463,  0.00222676,  0.14652112,  0.01139909,\n",
       "              -0.08541997,  0.2023059 ,  0.02739241, -0.0483047 ,  0.06866041,\n",
       "               0.01038364, -0.11969967, -0.00246403, -0.12420708,  0.02135899,\n",
       "               0.04676414, -0.15390131,  0.0521703 ,  0.07812749, -0.21069311,\n",
       "               0.17577328, -0.04208167,  0.02964992, -0.03263114,  0.02102945,\n",
       "              -0.07565176,  0.0654836 ,  0.1267236 , -0.19126032,  0.23402196,\n",
       "               0.12517594, -0.05941473,  0.1109686 ,  0.06089767,  0.01476785,\n",
       "              -0.09863636,  0.07812159, -0.03569024, -0.05602147,  0.04644965,\n",
       "               0.02961507,  0.09534079,  0.08226422])])                             ,\n",
       "       list([array([-0.0617888 ,  0.09157034,  0.04556886, -0.03754254, -0.13334592,\n",
       "               0.04421397, -0.09973653, -0.07507163,  0.13606016, -0.10287701,\n",
       "               0.26748469, -0.01634755, -0.18718393, -0.06220828, -0.10665711,\n",
       "               0.1822786 , -0.22448738, -0.09955534,  0.01213079,  0.04456246,\n",
       "               0.11755598,  0.07273299,  0.03111984, -0.02456368, -0.13165905,\n",
       "              -0.36985952, -0.0978639 , -0.04068182, -0.03239988, -0.1030883 ,\n",
       "              -0.05196551,  0.05116497, -0.18386962, -0.0254518 ,  0.05917585,\n",
       "               0.06655759, -0.03678521, -0.01985176,  0.21973935,  0.07966086,\n",
       "              -0.20068522,  0.09510611,  0.01530016,  0.28726631,  0.17597593,\n",
       "              -0.03240329,  0.0270843 , -0.14378212,  0.09902825, -0.17091638,\n",
       "               0.0362812 ,  0.20314801,  0.09036643,  0.05563222, -0.03414546,\n",
       "              -0.01853554, -0.0285467 ,  0.12221505, -0.05161763,  0.04608404,\n",
       "               0.12451953, -0.04308659, -0.02628731, -0.0503777 ,  0.1188269 ,\n",
       "               0.02488031, -0.09364542, -0.24801877,  0.05378185, -0.08704325,\n",
       "              -0.15024178,  0.04323859, -0.16851255, -0.20215157, -0.23890907,\n",
       "              -0.00043012,  0.42646086,  0.04663001, -0.23438905,  0.06406375,\n",
       "              -0.07299953, -0.06423712,  0.12702151,  0.13123772,  0.03371731,\n",
       "               0.06088435, -0.07214907,  0.08247629,  0.27872923, -0.10246003,\n",
       "              -0.03577515,  0.25358453,  0.02191291,  0.11316417,  0.07279914,\n",
       "               0.0146905 ,  0.02394654,  0.07661524, -0.14401397, -0.01215318,\n",
       "               0.02587091, -0.07086242, -0.02080549,  0.09404224, -0.16653639,\n",
       "               0.17018829,  0.02028274,  0.05298706,  0.06432538,  0.01463285,\n",
       "              -0.15773931, -0.04959922,  0.17005125, -0.2226705 ,  0.20613217,\n",
       "               0.17723863,  0.06350254,  0.07918431,  0.1581862 ,  0.07338885,\n",
       "               0.01843066,  0.0053496 , -0.18656152, -0.03278958,  0.05269039,\n",
       "               0.03031271,  0.05265656, -0.02718705])])                             ,\n",
       "       list([array([-0.11234332,  0.02471353,  0.12803017, -0.05368368, -0.03764488,\n",
       "              -0.14748961,  0.01445278, -0.10458489,  0.14907397, -0.10856922,\n",
       "               0.1185747 ,  0.01014456, -0.2114584 , -0.09538481,  0.0755437 ,\n",
       "               0.13236885, -0.14595717, -0.2135181 , -0.13876723, -0.07436538,\n",
       "              -0.03722584, -0.03442024,  0.08641901,  0.00804249, -0.13838385,\n",
       "              -0.2812295 , -0.1220163 , -0.16090772, -0.00204802, -0.00858358,\n",
       "               0.06454523,  0.07353415, -0.22754306, -0.05025809, -0.01767398,\n",
       "               0.03412839,  0.03152787, -0.03629283,  0.16883746, -0.01434294,\n",
       "              -0.22657898, -0.03656803, -0.01938304,  0.17094557,  0.28273797,\n",
       "              -0.03275303,  0.02408047,  0.02113728,  0.046042  , -0.24386346,\n",
       "              -0.01381567,  0.06590705,  0.11951687,  0.03628408,  0.02003591,\n",
       "              -0.12900631,  0.05232094,  0.10676943, -0.22976676,  0.01919914,\n",
       "               0.00368234, -0.18394367, -0.07500795,  0.04805946,  0.26494431,\n",
       "               0.09050059, -0.1259741 , -0.11801683,  0.23754926, -0.15159944,\n",
       "               0.02815138,  0.10699502, -0.1489518 , -0.08315559, -0.25641924,\n",
       "              -0.004358  ,  0.4338918 ,  0.03346288, -0.15603592,  0.04547389,\n",
       "              -0.2285367 ,  0.02248826, -0.11523031,  0.03931745, -0.08154107,\n",
       "              -0.00154406, -0.09052753,  0.00200356,  0.17883296, -0.02797355,\n",
       "              -0.04123177,  0.19024928, -0.02290438,  0.00977391,  0.02003783,\n",
       "              -0.05169978, -0.01162886, -0.08209966, -0.09407324, -0.05924507,\n",
       "              -0.01788554, -0.100343  , -0.03361847,  0.08812693, -0.1646011 ,\n",
       "               0.12062881,  0.00462736, -0.01523163, -0.03397647,  0.05063903,\n",
       "              -0.03412279, -0.08086491,  0.14232257, -0.22957148,  0.1791943 ,\n",
       "               0.23004265, -0.00492641,  0.1083913 , -0.0146387 ,  0.05992913,\n",
       "              -0.05934634,  0.01649776, -0.13089256, -0.04014866,  0.07010743,\n",
       "              -0.01772764,  0.07668854,  0.07872784])])                             ],\n",
       "      dtype=object)"
      ]
     },
     "metadata": {},
     "execution_count": 6
    }
   ],
   "source": [
    "df['Face Encoding'].values"
   ]
  },
  {
   "cell_type": "code",
   "execution_count": 35,
   "metadata": {},
   "outputs": [
    {
     "output_type": "stream",
     "name": "stdout",
     "text": [
      "FIM\n"
     ]
    }
   ],
   "source": [
    "df_2 = pd.DataFrame()\n",
    "df_2[\"Face Encoding\"] = df.apply(lambda x: fr.face_encodings(x[\"Image\"], x[\"Face Location\"]), axis=1)"
   ]
  },
  {
   "cell_type": "code",
   "execution_count": 58,
   "metadata": {
    "tags": []
   },
   "outputs": [],
   "source": [
    "f_len = []\n",
    "for x in df_2['Face Encoding']:\n",
    "    df_2['Len Row'] = df_2.apply(lambda x: len(x['Face Encoding']), axis=1)\n"
   ]
  },
  {
   "cell_type": "code",
   "execution_count": 4,
   "metadata": {},
   "outputs": [],
   "source": [
    "df.iloc[12]\n",
    "test_m = zip(df['Face Location'][12], df['Face Encoding'][12])\n",
    "test_o = zip(df['Face Location'][13], df['Face Encoding'][13])\n"
   ]
  },
  {
   "cell_type": "code",
   "execution_count": 19,
   "metadata": {},
   "outputs": [
    {
     "output_type": "execute_result",
     "data": {
      "text/plain": [
       "(1500, 5)"
      ]
     },
     "metadata": {},
     "execution_count": 19
    }
   ],
   "source": [
    "# for x in range(df.shape):\n",
    "df.shape"
   ]
  },
  {
   "cell_type": "code",
   "execution_count": null,
   "metadata": {},
   "outputs": [],
   "source": [
    "model = knn_train()...\n",
    "y_pred = model.predict(frame_encoded)\n",
    "candidate = df[df['Name'] == y_pred]\n",
    "face_distance = can\n",
    "\n",
    "\n"
   ]
  }
 ]
}